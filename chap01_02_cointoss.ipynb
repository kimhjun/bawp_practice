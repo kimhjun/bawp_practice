{
 "cells": [
  {
   "cell_type": "code",
   "execution_count": 43,
   "metadata": {
    "collapsed": true
   },
   "outputs": [],
   "source": [
    "import matplotlib.pyplot as plt\n",
    "import numpy as np\n",
    "import seaborn as sns\n",
    "from scipy import stats"
   ]
  },
  {
   "cell_type": "code",
   "execution_count": 38,
   "metadata": {
    "collapsed": true
   },
   "outputs": [],
   "source": [
    "n_params = [1, 2, 4]\n",
    "p_params = [0.25, .5, .75]\n",
    "x = np.arange(0, max(n_params) + 1)"
   ]
  },
  {
   "cell_type": "code",
   "execution_count": 40,
   "metadata": {
    "collapsed": true
   },
   "outputs": [],
   "source": [
    "f, ax = plt.subplots(len(n_params), len(p_params), sharex = True, sharey=True)"
   ]
  },
  {
   "cell_type": "code",
   "execution_count": 41,
   "metadata": {},
   "outputs": [
    {
     "data": {
      "text/plain": [
       "[<matplotlib.axis.XTick at 0x1061e2756a0>,\n",
       " <matplotlib.axis.XTick at 0x1061ebabcf8>,\n",
       " <matplotlib.axis.XTick at 0x1061ef1a358>,\n",
       " <matplotlib.axis.XTick at 0x1061ef0ecf8>,\n",
       " <matplotlib.axis.XTick at 0x1061eefe208>]"
      ]
     },
     "execution_count": 41,
     "metadata": {},
     "output_type": "execute_result"
    }
   ],
   "source": [
    "for i in range(len(n_params)):\n",
    "    for j in range(len(p_params)):\n",
    "        n = n_params[i]\n",
    "        p = p_params[j]\n",
    "        y = stats.binom(n=n, p=p).pmf(x)\n",
    "        ax[i, j].vlines(x, 0, y, colors='b', lw=5)\n",
    "        ax[i, j].set_ylim(0, 1)\n",
    "        ax[i, j].plot(0, 0, label=\"n = {:3.2f}\\np = {:3.2f}\".format(n, p), alpha=0)\n",
    "        ax[i, j].legend(fontsize=12)\n",
    "ax[2, 1].set_xlabel('$\\\\theta$', fontsize=14)\n",
    "ax[1, 0].set_ylabel('$p(y|\\\\theta)$', fontsize=14)\n",
    "ax[0, 0].set_xticks(x)"
   ]
  },
  {
   "cell_type": "code",
   "execution_count": null,
   "metadata": {
    "collapsed": true
   },
   "outputs": [],
   "source": []
  }
 ],
 "metadata": {
  "kernelspec": {
   "display_name": "Python 3",
   "language": "python",
   "name": "python3"
  },
  "language_info": {
   "codemirror_mode": {
    "name": "ipython",
    "version": 3
   },
   "file_extension": ".py",
   "mimetype": "text/x-python",
   "name": "python",
   "nbconvert_exporter": "python",
   "pygments_lexer": "ipython3",
   "version": "3.6.1"
  }
 },
 "nbformat": 4,
 "nbformat_minor": 2
}
